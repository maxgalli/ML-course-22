{
 "cells": [
  {
   "cell_type": "code",
   "execution_count": 1,
   "metadata": {},
   "outputs": [],
   "source": [
    "import numpy as np\n",
    "from sklearn import svm, metrics\n",
    "import matplotlib.pyplot as plt\n",
    "from sklearn.model_selection import train_test_split\n",
    "import pickle as pkl\n",
    "from sklearn.decomposition import PCA\n",
    "from sklearn.preprocessing import StandardScaler\n",
    "from sklearn.pipeline import Pipeline\n",
    "from sklearn.svm import SVC\n",
    "from sklearn.metrics import plot_confusion_matrix, plot_roc_curve, roc_auc_score"
   ]
  },
  {
   "cell_type": "code",
   "execution_count": 14,
   "metadata": {},
   "outputs": [],
   "source": [
    "train = np.loadtxt(\"handout/train_triplets.txt\", dtype=str, delimiter=\" \")\n",
    "\n",
    "features_file_name = \"features_vgg16.pkl\"\n",
    "with open(features_file_name, 'rb') as f:\n",
    "    features_dct = pkl.load(f)\n",
    "\n",
    "features_arr = np.array(list(features_dct.values()))\n",
    "\n",
    "steps = [('scaling', StandardScaler()), ('reduce_dim', PCA(n_components=100))]\n",
    "pipeline = Pipeline(steps)\n",
    "\n",
    "pipeline.fit(features_arr)\n",
    "\n",
    "reduced_features_arr = pipeline.transform(features_arr)\n",
    "\n",
    "reduced_features_dct = {}\n",
    "for i, key in enumerate(features_dct.keys()):\n",
    "    reduced_features_dct[key] = reduced_features_arr[i]\n",
    "\n",
    "with open(\"reduced_features_vgg16.pkl\", \"wb\") as f:\n",
    "    pkl.dump(reduced_features_dct, f)"
   ]
  },
  {
   "cell_type": "code",
   "execution_count": 15,
   "metadata": {},
   "outputs": [],
   "source": [
    "full_rows = []\n",
    "for row in train:\n",
    "    full_rows.append(np.hstack([reduced_features_dct[n] for n in row]))\n",
    "train_man = np.vstack(full_rows)\n",
    "\n",
    "if len(train)%2 != 0:\n",
    "    idx = int((len(train_man) + 1) / 2)\n",
    "else:\n",
    "    idx = int(len(train_man) / 2)\n",
    "\n",
    "train_man_one = train_man[:idx]\n",
    "train_man_two = train_man[idx:]\n",
    "\n",
    "sep = int(train_man.shape[1]/3)\n",
    "t = np.copy(train_man_two[:, sep:(2*sep)])\n",
    "train_man_two[:, sep:(2*sep)] = train_man_two[:, (2*sep):]\n",
    "train_man_two[:, (2*sep):] = t\n",
    "\n",
    "y_labels_one = np.ones(len(train_man_one))\n",
    "y_labels_two = np.zeros(len(train_man_two))\n",
    "y_labels = np.hstack([y_labels_one, y_labels_two])\n",
    "x_train = np.vstack([train_man_one, train_man_two])\n",
    "\n",
    "X_train, X_test, y_train, y_test = train_test_split(x_train, y_labels, test_size=0.2, random_state=42)"
   ]
  },
  {
   "cell_type": "code",
   "execution_count": 16,
   "metadata": {},
   "outputs": [
    {
     "data": {
      "text/plain": [
       "SVC()"
      ]
     },
     "execution_count": 16,
     "metadata": {},
     "output_type": "execute_result"
    }
   ],
   "source": [
    "clf = SVC()\n",
    "clf.fit(X_train, y_train)"
   ]
  },
  {
   "cell_type": "code",
   "execution_count": 19,
   "metadata": {},
   "outputs": [
    {
     "name": "stderr",
     "output_type": "stream",
     "text": [
      "/work/gallim/anaconda3/envs/ML-projects/lib/python3.9/site-packages/sklearn/utils/deprecation.py:87: FutureWarning: Function plot_roc_curve is deprecated; Function :func:`plot_roc_curve` is deprecated in 1.0 and will be removed in 1.2. Use one of the class methods: :meth:`sklearn.metric.RocCurveDisplay.from_predictions` or :meth:`sklearn.metric.RocCurveDisplay.from_estimator`.\n",
      "  warnings.warn(msg, category=FutureWarning)\n",
      "/work/gallim/anaconda3/envs/ML-projects/lib/python3.9/site-packages/sklearn/utils/deprecation.py:87: FutureWarning: Function plot_confusion_matrix is deprecated; Function `plot_confusion_matrix` is deprecated in 1.0 and will be removed in 1.2. Use one of the class methods: ConfusionMatrixDisplay.from_predictions or ConfusionMatrixDisplay.from_estimator.\n",
      "  warnings.warn(msg, category=FutureWarning)\n"
     ]
    },
    {
     "data": {
      "image/png": "[encoded data removed]",
      "text/plain": [
       "<Figure size 432x288 with 1 Axes>"
      ]
     },
     "metadata": {
      "needs_background": "light"
     },
     "output_type": "display_data"
    },
    {
     "data": {
      "image/png": "[encoded data removed]",
      "text/plain": [
       "<Figure size 432x288 with 2 Axes>"
      ]
     },
     "metadata": {
      "needs_background": "light"
     },
     "output_type": "display_data"
    }
   ],
   "source": [
    "y_pred = clf.predict(X_test)\n",
    "#y_pred_proba = pipeline.predict_proba(X_test)[:, 1]\n",
    "\n",
    "# Evaluation\n",
    "#print(f\"ROC AUC: {roc_auc_score(y_test, y_pred_proba)}\")\n",
    "plot_roc_curve(clf, X_test, y_test)\n",
    "plot_confusion_matrix(clf, X_test, y_test);"
   ]
  },
  {
   "cell_type": "code",
   "execution_count": 20,
   "metadata": {},
   "outputs": [
    {
     "data": {
      "text/plain": [
       "0.7614887003276485"
      ]
     },
     "execution_count": 20,
     "metadata": {},
     "output_type": "execute_result"
    }
   ],
   "source": [
    "(y_pred == y_test).sum() / len(y_test) "
   ]
  },
  {
   "cell_type": "code",
   "execution_count": 24,
   "metadata": {},
   "outputs": [],
   "source": [
    "test = np.loadtxt(\"handout/test_triplets.txt\", dtype=str, delimiter=\" \")\n",
    "\n",
    "full_rows = []\n",
    "for row in test:\n",
    "    full_rows.append(np.hstack([reduced_features_dct[n] for n in row]))\n",
    "test_arr = np.vstack(full_rows)"
   ]
  },
  {
   "cell_type": "code",
   "execution_count": 25,
   "metadata": {},
   "outputs": [],
   "source": [
    "predictions_int = clf.predict(test_arr)"
   ]
  },
  {
   "cell_type": "code",
   "execution_count": 26,
   "metadata": {},
   "outputs": [],
   "source": [
    "predictions_int = predictions_int.astype(int)"
   ]
  },
  {
   "cell_type": "code",
   "execution_count": 27,
   "metadata": {},
   "outputs": [],
   "source": [
    "np.savetxt(\"predictions/prediction_pipeline.txt\", predictions_int, fmt=\"%i\")"
   ]
  }
 ],
 "metadata": {
  "interpreter": {
   "hash": "8b4101d65f246ca3c6545fd876c414d4a4b9c372f5e6e13942927864f36a2ffe"
  },
  "kernelspec": {
   "display_name": "Python 3.9.12 ('ML-projects')",
   "language": "python",
   "name": "python3"
  },
  "language_info": {
   "codemirror_mode": {
    "name": "ipython",
    "version": 3
   },
   "file_extension": ".py",
   "mimetype": "text/x-python",
   "name": "python",
   "nbconvert_exporter": "python",
   "pygments_lexer": "ipython3",
   "version": "3.9.12"
  },
  "orig_nbformat": 4
 },
 "nbformat": 4,
 "nbformat_minor": 2
}
