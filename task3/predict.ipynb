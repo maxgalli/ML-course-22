{
 "cells": [
  {
   "cell_type": "code",
   "execution_count": 1,
   "metadata": {},
   "outputs": [],
   "source": [
    "import numpy as np\n",
    "import tensorflow as tf\n",
    "import pickle as pkl\n",
    "import matplotlib.pyplot as plt"
   ]
  },
  {
   "cell_type": "code",
   "execution_count": 2,
   "metadata": {},
   "outputs": [],
   "source": [
    "# utility functions\n",
    "\n",
    "def plot_eval(history):\n",
    "    fig, ax = plt.subplots(1, 2, figsize=(24, 8))\n",
    "    epoch = list(range(1, len(history['loss']) + 1))\n",
    "    ax[0].plot(epoch, history[\"loss\"], label=\"training loss\")\n",
    "    ax[0].plot(epoch, history[\"val_loss\"], label=\"validation loss\")\n",
    "    ax[0].legend()\n",
    "    ax[1].plot(epoch, history[\"accuracy\"], label=\"training accuracy\")\n",
    "    ax[1].plot(epoch, history[\"val_accuracy\"], label=\"validation accuracy\")\n",
    "    ax[1].legend()\n",
    "    return fig, ax"
   ]
  },
  {
   "cell_type": "code",
   "execution_count": 3,
   "metadata": {},
   "outputs": [],
   "source": [
    "test = np.loadtxt(\"handout/test_triplets.txt\", dtype=str, delimiter=\" \")"
   ]
  },
  {
   "cell_type": "code",
   "execution_count": 4,
   "metadata": {},
   "outputs": [],
   "source": [
    "with open('features_vg16.pickle', 'rb') as f:\n",
    "    features_dct = pkl.load(f)"
   ]
  },
  {
   "cell_type": "code",
   "execution_count": 5,
   "metadata": {},
   "outputs": [
    {
     "name": "stderr",
     "output_type": "stream",
     "text": [
      "2022-04-25 23:56:06.060680: I tensorflow/core/platform/cpu_feature_guard.cc:142] This TensorFlow binary is optimized with oneAPI Deep Neural Network Library (oneDNN) to use the following CPU instructions in performance-critical operations:  SSE4.1 SSE4.2 AVX AVX2 FMA\n",
      "To enable them in other operations, rebuild TensorFlow with the appropriate compiler flags.\n"
     ]
    }
   ],
   "source": [
    "clf_model_path = \"models/model_20220425-235432\"\n",
    "cl_model = tf.keras.models.load_model(clf_model_path)\n",
    "prediction_path = \"predictions/prediction_{}.txt\".format(clf_model_path.split('_')[-1])\n",
    "history_path = \"train_logs/history_{}.pickle\".format(clf_model_path.split('_')[-1])\n",
    "#with open(history_path, 'rb') as f:\n",
    "#    history = pkl.load(f)"
   ]
  },
  {
   "cell_type": "code",
   "execution_count": 6,
   "metadata": {},
   "outputs": [],
   "source": [
    "full_rows = []\n",
    "for row in test:\n",
    "    full_rows.append(np.hstack([features_dct[n] for n in row]))\n",
    "test_man = np.vstack(full_rows)"
   ]
  },
  {
   "cell_type": "code",
   "execution_count": 7,
   "metadata": {},
   "outputs": [
    {
     "name": "stderr",
     "output_type": "stream",
     "text": [
      "2022-04-25 23:56:43.058557: W tensorflow/core/framework/cpu_allocator_impl.cc:80] Allocation of 17926078464 exceeds 10% of free system memory.\n",
      "2022-04-25 23:56:58.811106: I tensorflow/compiler/mlir/mlir_graph_optimization_pass.cc:116] None of the MLIR optimization passes are enabled (registered 2)\n",
      "2022-04-25 23:56:58.812517: I tensorflow/core/platform/profile_utils/cpu_utils.cc:112] CPU Frequency: 2294660000 Hz\n"
     ]
    }
   ],
   "source": [
    "predictions = cl_model.predict(test_man)"
   ]
  },
  {
   "cell_type": "code",
   "execution_count": 8,
   "metadata": {},
   "outputs": [],
   "source": [
    "# Write prediction to txt file as column of 0s and 1s\n",
    "with open(prediction_path, \"w\") as f:\n",
    "    for p in predictions:\n",
    "        if p > 0.5:\n",
    "            f.write(\"1\")\n",
    "        else:\n",
    "            f.write(\"0\")\n",
    "        f.write(\"\\n\")"
   ]
  },
  {
   "cell_type": "code",
   "execution_count": null,
   "metadata": {},
   "outputs": [],
   "source": []
  }
 ],
 "metadata": {
  "interpreter": {
   "hash": "8b4101d65f246ca3c6545fd876c414d4a4b9c372f5e6e13942927864f36a2ffe"
  },
  "kernelspec": {
   "display_name": "Python 3.9.12 ('ML-projects')",
   "language": "python",
   "name": "python3"
  },
  "language_info": {
   "codemirror_mode": {
    "name": "ipython",
    "version": 3
   },
   "file_extension": ".py",
   "mimetype": "text/x-python",
   "name": "python",
   "nbconvert_exporter": "python",
   "pygments_lexer": "ipython3",
   "version": "3.9.12"
  },
  "orig_nbformat": 4
 },
 "nbformat": 4,
 "nbformat_minor": 2
}
