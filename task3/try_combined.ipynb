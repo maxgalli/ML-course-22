{
 "cells": [
  {
   "cell_type": "code",
   "execution_count": 1,
   "metadata": {},
   "outputs": [],
   "source": [
    "import matplotlib.pyplot as plt\n",
    "import numpy as np\n",
    "import os\n",
    "import random\n",
    "import tensorflow as tf\n",
    "from pathlib import Path\n",
    "from datetime import datetime\n",
    "import argparse\n",
    "from tensorflow.keras import applications\n",
    "from tensorflow.keras import layers\n",
    "from tensorflow.keras import losses\n",
    "from tensorflow.keras import optimizers\n",
    "from tensorflow.keras import metrics\n",
    "from tensorflow.keras import Model, Input\n",
    "from tensorflow.keras.applications import resnet"
   ]
  },
  {
   "cell_type": "code",
   "execution_count": 23,
   "metadata": {},
   "outputs": [],
   "source": [
    "def preprocess_image(filename, target_shape=(224, 224)):\n",
    "    \"\"\"\n",
    "    Load the specified file as a JPEG image, preprocess it and\n",
    "    resize it to the target shape.\n",
    "    \"\"\"\n",
    "\n",
    "    image_string = tf.io.read_file(filename)\n",
    "    image = tf.image.decode_jpeg(image_string, channels=3)\n",
    "    image = tf.image.convert_image_dtype(image, tf.float32)\n",
    "    image = tf.image.resize(image, target_shape)\n",
    "    image = tf.reshape(image, (1,) + target_shape + (3,))\n",
    "    image = resnet.preprocess_input(image)\n",
    "    return image"
   ]
  },
  {
   "cell_type": "code",
   "execution_count": 38,
   "metadata": {},
   "outputs": [],
   "source": [
    "# Handling data\n",
    "\n",
    "train = np.loadtxt(\"handout/train_triplets.txt\", dtype=str, delimiter=\" \")\n",
    "train = train[:2]\n",
    "\n",
    "anchor_images = [f\"handout/food/{number}.jpg\" for number in list(train[:, 0])]\n",
    "positive_images = [f\"handout/food/{number}.jpg\" for number in list(train[:, 1])]\n",
    "negative_images = [f\"handout/food/{number}.jpg\" for number in list(train[:, 2])]\n",
    "\n",
    "image_count = len(anchor_images)\n",
    "\n",
    "anchor_dataset = tf.data.Dataset.from_tensor_slices(anchor_images)\n",
    "positive_dataset = tf.data.Dataset.from_tensor_slices(positive_images)\n",
    "negative_dataset = tf.data.Dataset.from_tensor_slices(negative_images)\n",
    "\n",
    "anchor_dataset = anchor_dataset.map(preprocess_image)\n",
    "positive_dataset = positive_dataset.map(preprocess_image)\n",
    "negative_dataset = negative_dataset.map(preprocess_image)\n",
    "\n",
    "one_anchor_dataset = anchor_dataset.take(round(.5 * image_count))\n",
    "two_anchor_dataset = anchor_dataset.skip(round(.5 * image_count))\n",
    "one_positive_dataset = positive_dataset.take(round(.5 * image_count))\n",
    "two_positive_dataset = positive_dataset.skip(round(.5 * image_count))\n",
    "one_negative_dataset = negative_dataset.take(round(.5 * image_count))\n",
    "two_negative_dataset = negative_dataset.skip(round(.5 * image_count))\n",
    "\n",
    "one_dataset = tf.data.Dataset.zip((one_anchor_dataset, one_positive_dataset, one_negative_dataset, tf.data.Dataset.from_tensor_slices(np.ones(len(one_anchor_dataset)).reshape(-1, 1))))\n",
    "two_dataset = tf.data.Dataset.zip((two_anchor_dataset, two_negative_dataset, two_positive_dataset, tf.data.Dataset.from_tensor_slices(np.zeros(len(two_anchor_dataset)).reshape(-1, 1))))\n",
    "dataset = one_dataset.concatenate(two_dataset)\n",
    "dataset = dataset.shuffle(buffer_size=1024)\n",
    "\n",
    "train_dataset = dataset.take(round(.8 * image_count))\n",
    "validation_dataset = dataset.skip(round(.8 * image_count))\n",
    "\n",
    "X_train = train_dataset.map(lambda anchor, positive, negative, label: (anchor, positive, negative))\n",
    "X_validation = validation_dataset.map(lambda anchor, positive, negative, label: (anchor, positive, negative))\n",
    "y_train = train_dataset.map(lambda anchor, positive, negative, label: label)\n",
    "y_validation = validation_dataset.map(lambda anchor, positive, negative, label: label)\n",
    "\n",
    "train_dataset = tf.data.Dataset.zip((X_train, y_train))\n",
    "validation_dataset = tf.data.Dataset.zip((X_validation, y_validation))"
   ]
  },
  {
   "cell_type": "code",
   "execution_count": 39,
   "metadata": {},
   "outputs": [],
   "source": [
    "# Model\n",
    "\n",
    "class DistanceLayer(layers.Layer):\n",
    "    \"\"\"\n",
    "    This layer is responsible for computing the distance between the anchor\n",
    "    embedding and the positive embedding, and the anchor embedding and the\n",
    "    negative embedding.\n",
    "    \"\"\"\n",
    "\n",
    "    def __init__(self, **kwargs):\n",
    "        super().__init__(**kwargs)\n",
    "\n",
    "    def call(self, anchor, positive, negative):\n",
    "        ap_distance = tf.reduce_sum(tf.square(anchor - positive), -1)\n",
    "        an_distance = tf.reduce_sum(tf.square(anchor - negative), -1)\n",
    "        return (ap_distance, an_distance)\n",
    "\n",
    "target_shape = (224, 224)\n",
    "\n",
    "base_cnn = resnet.ResNet50(\n",
    "    weights=\"imagenet\", input_shape=target_shape + (3,), include_top=False\n",
    ")\n",
    "\n",
    "flatten = layers.Flatten()(base_cnn.output)\n",
    "dense1 = layers.Dense(512, activation=\"relu\")(flatten)\n",
    "dense1 = layers.BatchNormalization()(dense1)\n",
    "dense2 = layers.Dense(256, activation=\"relu\")(dense1)\n",
    "dense2 = layers.BatchNormalization()(dense2)\n",
    "output = layers.Dense(256)(dense2)\n",
    "\n",
    "embedding = Model(base_cnn.input, output, name=\"Embedding\")\n",
    "\n",
    "trainable = False\n",
    "for layer in base_cnn.layers:\n",
    "    if layer.name == \"conv5_block1_out\":\n",
    "        trainable = True\n",
    "    layer.trainable = trainable\n",
    "\n",
    "anchor_input = layers.Input(name=\"anchor\", shape=target_shape + (3,))\n",
    "positive_input = layers.Input(name=\"positive\", shape=target_shape + (3,))\n",
    "negative_input = layers.Input(name=\"negative\", shape=target_shape + (3,))\n",
    "\n",
    "distances = DistanceLayer()(\n",
    "    embedding(anchor_input),\n",
    "    embedding(positive_input),\n",
    "    embedding(negative_input),\n",
    ")\n",
    "\n",
    "layer = layers.Dense(2, activation=\"relu\")(tf.stack(distances, axis=1))\n",
    "layer = layers.Dense(1, activation=\"sigmoid\", name=\"BinaryPrediction\")(layer)\n",
    "\n",
    "model = Model(inputs=[anchor_input, positive_input, negative_input], outputs=layer)"
   ]
  },
  {
   "cell_type": "code",
   "execution_count": 40,
   "metadata": {},
   "outputs": [
    {
     "name": "stdout",
     "output_type": "stream",
     "text": [
      "2/2 [==============================] - 9s 1s/step - loss: 0.6933 - accuracy: 0.0000e+00\n"
     ]
    }
   ],
   "source": [
    "model.compile(optimizer='adam', loss='binary_crossentropy', metrics=['accuracy'])\n",
    "history = model.fit(train_dataset, epochs=1, validation_data=validation_dataset) "
   ]
  }
 ],
 "metadata": {
  "interpreter": {
   "hash": "8b4101d65f246ca3c6545fd876c414d4a4b9c372f5e6e13942927864f36a2ffe"
  },
  "kernelspec": {
   "display_name": "Python 3.9.12 ('ML-projects')",
   "language": "python",
   "name": "python3"
  },
  "language_info": {
   "codemirror_mode": {
    "name": "ipython",
    "version": 3
   },
   "file_extension": ".py",
   "mimetype": "text/x-python",
   "name": "python",
   "nbconvert_exporter": "python",
   "pygments_lexer": "ipython3",
   "version": "3.9.12"
  },
  "orig_nbformat": 4
 },
 "nbformat": 4,
 "nbformat_minor": 2
}
