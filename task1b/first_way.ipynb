{
 "cells": [
  {
   "cell_type": "code",
   "execution_count": 77,
   "metadata": {},
   "outputs": [],
   "source": [
    "import numpy as np\n",
    "import pandas as pd\n",
    "from sklearn.model_selection import train_test_split\n",
    "from sklearn.base import BaseEstimator, RegressorMixin\n",
    "from sklearn.utils.validation import check_X_y, check_array, check_is_fitted\n",
    "from sklearn.metrics import mean_squared_error\n",
    "from scipy.optimize import curve_fit"
   ]
  },
  {
   "cell_type": "code",
   "execution_count": 81,
   "metadata": {},
   "outputs": [],
   "source": [
    "def custom_func(x, *ws):\n",
    "    w0_4 = ws[0:5]\n",
    "    w5_9 = ws[5:10]\n",
    "    w10_14 = ws[10:15]\n",
    "    w15_19 = ws[15:20]\n",
    "    w21 = ws[20]\n",
    "\n",
    "    linear = x\n",
    "    quadratic = x ** 2\n",
    "    exponential = np.exp(x)\n",
    "    cosine = np.cos(x)\n",
    "    constant = 1\n",
    "\n",
    "    return np.sum(w0_4 * linear + w5_9 * quadratic + w10_14 * exponential + w15_19 * cosine + w21 * constant, axis=-1)\n",
    "\n",
    "\n",
    "class CustomRegressor(BaseEstimator, RegressorMixin):\n",
    "    def fit(self, X, y):\n",
    "        X, y = check_X_y(X, y)\n",
    "        self.ws_ = curve_fit(custom_func, X, y, p0=np.ones(21))[0]\n",
    "        return self\n",
    "    \n",
    "    def predict(self, X):\n",
    "        check_is_fitted(self, 'ws_')\n",
    "        X = check_array(X)\n",
    "        return custom_func(X, *self.ws_)"
   ]
  },
  {
   "cell_type": "code",
   "execution_count": 82,
   "metadata": {},
   "outputs": [],
   "source": [
    "train_df = pd.read_csv(\"handout/train.csv\")\n",
    "X = train_df.iloc[:, 2:].values\n",
    "y = train_df.iloc[:, 1].values\n",
    "X_train, X_test, y_train, y_test = train_test_split(X, y, test_size=0.2, random_state=0)"
   ]
  },
  {
   "cell_type": "code",
   "execution_count": 83,
   "metadata": {},
   "outputs": [],
   "source": [
    "regressor = CustomRegressor()\n",
    "regressor.fit(X_train, y_train)\n",
    "y_pred = regressor.predict(X_test)"
   ]
  },
  {
   "cell_type": "code",
   "execution_count": 86,
   "metadata": {},
   "outputs": [],
   "source": [
    "error = mean_squared_error(y_test, y_pred) ** 0.5"
   ]
  },
  {
   "cell_type": "code",
   "execution_count": 87,
   "metadata": {},
   "outputs": [
    {
     "data": {
      "text/plain": [
       "1.8913070127012588"
      ]
     },
     "execution_count": 87,
     "metadata": {},
     "output_type": "execute_result"
    }
   ],
   "source": [
    "error"
   ]
  },
  {
   "cell_type": "code",
   "execution_count": 89,
   "metadata": {},
   "outputs": [
    {
     "data": {
      "text/plain": [
       "array([  119.52016988,   -57.35039578,   146.97937429,   161.80547897,\n",
       "        -263.82145298,   180.44073462,  -385.60852789, -3321.2771003 ,\n",
       "        -537.94616627,   814.81848513,  -118.4065948 ,    55.51474438,\n",
       "        -147.9168532 ,  -158.96948492,   264.20632878,   252.38780648,\n",
       "        -729.16764416, -6827.17294479, -1245.70886592,  1884.25031204,\n",
       "        1352.90701501])"
      ]
     },
     "execution_count": 89,
     "metadata": {},
     "output_type": "execute_result"
    }
   ],
   "source": [
    "regressor.ws_"
   ]
  },
  {
   "cell_type": "code",
   "execution_count": null,
   "metadata": {},
   "outputs": [],
   "source": []
  }
 ],
 "metadata": {
  "interpreter": {
   "hash": "ed2e7aed9813acd8de509c8c2438bc56aefda22674c3c554e0205f5dbd1f21e1"
  },
  "kernelspec": {
   "display_name": "Python 3.7.11 ('intro-ml')",
   "language": "python",
   "name": "python3"
  },
  "language_info": {
   "codemirror_mode": {
    "name": "ipython",
    "version": 3
   },
   "file_extension": ".py",
   "mimetype": "text/x-python",
   "name": "python",
   "nbconvert_exporter": "python",
   "pygments_lexer": "ipython3",
   "version": "3.7.11"
  },
  "orig_nbformat": 4
 },
 "nbformat": 4,
 "nbformat_minor": 2
}
