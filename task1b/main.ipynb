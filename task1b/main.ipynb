{
 "cells": [
  {
   "cell_type": "code",
   "execution_count": 1,
   "metadata": {},
   "outputs": [],
   "source": [
    "import pandas as pd\n",
    "import numpy as np\n",
    "from sklearn.linear_model import LassoCV\n",
    "from sklearn.model_selection import train_test_split, GridSearchCV, RepeatedKFold\n",
    "from sklearn.metrics import mean_squared_error\n",
    "import csv"
   ]
  },
  {
   "cell_type": "code",
   "execution_count": 2,
   "metadata": {},
   "outputs": [],
   "source": [
    "train_df = pd.read_csv(\"handout/train.csv\")\n",
    "X = train_df.iloc[:, 2:].values\n",
    "y = train_df.iloc[:, 1].values\n",
    "\n",
    "# features\n",
    "X = np.concatenate((X, X**2, np.exp(X), np.cos(X), np.ones((X.shape[0], 1))), axis=-1)\n",
    "\n",
    "# split\n",
    "X_train, X_test, y_train, y_test = train_test_split(X, y, test_size=0.2, random_state=0)"
   ]
  },
  {
   "cell_type": "code",
   "execution_count": 3,
   "metadata": {},
   "outputs": [],
   "source": [
    "# see https://machinelearningmastery.com/lasso-regression-with-python/\n",
    "\n",
    "cv = RepeatedKFold(n_splits=5, n_repeats=3, random_state=0)\n",
    "model = LassoCV(alphas=np.linspace(0.00001, 1, 1000), fit_intercept=False, max_iter=10000, cv=cv)"
   ]
  },
  {
   "cell_type": "code",
   "execution_count": 4,
   "metadata": {},
   "outputs": [
    {
     "name": "stderr",
     "output_type": "stream",
     "text": [
      "/Users/massimiliano/opt/anaconda3/envs/intro-ml/lib/python3.7/site-packages/sklearn/linear_model/_coordinate_descent.py:528: ConvergenceWarning: Objective did not converge. You might want to increase the number of iterations. Duality gap: 575.2135326196244, tolerance: 1.949530742917945\n",
      "  tol, rng, random, positive)\n",
      "/Users/massimiliano/opt/anaconda3/envs/intro-ml/lib/python3.7/site-packages/sklearn/linear_model/_coordinate_descent.py:528: ConvergenceWarning: Objective did not converge. You might want to increase the number of iterations. Duality gap: 735.7286083965151, tolerance: 1.9083798160285192\n",
      "  tol, rng, random, positive)\n",
      "/Users/massimiliano/opt/anaconda3/envs/intro-ml/lib/python3.7/site-packages/sklearn/linear_model/_coordinate_descent.py:528: ConvergenceWarning: Objective did not converge. You might want to increase the number of iterations. Duality gap: 744.1816914910834, tolerance: 1.9897696676591339\n",
      "  tol, rng, random, positive)\n",
      "/Users/massimiliano/opt/anaconda3/envs/intro-ml/lib/python3.7/site-packages/sklearn/linear_model/_coordinate_descent.py:528: ConvergenceWarning: Objective did not converge. You might want to increase the number of iterations. Duality gap: 709.2753352439275, tolerance: 1.9933562917372882\n",
      "  tol, rng, random, positive)\n",
      "/Users/massimiliano/opt/anaconda3/envs/intro-ml/lib/python3.7/site-packages/sklearn/linear_model/_coordinate_descent.py:528: ConvergenceWarning: Objective did not converge. You might want to increase the number of iterations. Duality gap: 634.328682117136, tolerance: 1.9742551320817192\n",
      "  tol, rng, random, positive)\n",
      "/Users/massimiliano/opt/anaconda3/envs/intro-ml/lib/python3.7/site-packages/sklearn/linear_model/_coordinate_descent.py:528: ConvergenceWarning: Objective did not converge. You might want to increase the number of iterations. Duality gap: 688.0929249971681, tolerance: 1.9539317337800641\n",
      "  tol, rng, random, positive)\n",
      "/Users/massimiliano/opt/anaconda3/envs/intro-ml/lib/python3.7/site-packages/sklearn/linear_model/_coordinate_descent.py:528: ConvergenceWarning: Objective did not converge. You might want to increase the number of iterations. Duality gap: 761.5406296905124, tolerance: 1.9682857589118594\n",
      "  tol, rng, random, positive)\n",
      "/Users/massimiliano/opt/anaconda3/envs/intro-ml/lib/python3.7/site-packages/sklearn/linear_model/_coordinate_descent.py:528: ConvergenceWarning: Objective did not converge. You might want to increase the number of iterations. Duality gap: 733.5587366747766, tolerance: 1.94059221858885\n",
      "  tol, rng, random, positive)\n",
      "/Users/massimiliano/opt/anaconda3/envs/intro-ml/lib/python3.7/site-packages/sklearn/linear_model/_coordinate_descent.py:528: ConvergenceWarning: Objective did not converge. You might want to increase the number of iterations. Duality gap: 659.5649877174852, tolerance: 1.99862608309369\n",
      "  tol, rng, random, positive)\n",
      "/Users/massimiliano/opt/anaconda3/envs/intro-ml/lib/python3.7/site-packages/sklearn/linear_model/_coordinate_descent.py:528: ConvergenceWarning: Objective did not converge. You might want to increase the number of iterations. Duality gap: 604.0105875989124, tolerance: 1.9538558560501422\n",
      "  tol, rng, random, positive)\n",
      "/Users/massimiliano/opt/anaconda3/envs/intro-ml/lib/python3.7/site-packages/sklearn/linear_model/_coordinate_descent.py:528: ConvergenceWarning: Objective did not converge. You might want to increase the number of iterations. Duality gap: 657.5345262062322, tolerance: 1.979816579411349\n",
      "  tol, rng, random, positive)\n",
      "/Users/massimiliano/opt/anaconda3/envs/intro-ml/lib/python3.7/site-packages/sklearn/linear_model/_coordinate_descent.py:528: ConvergenceWarning: Objective did not converge. You might want to increase the number of iterations. Duality gap: 719.9217021193786, tolerance: 1.9646202982663163\n",
      "  tol, rng, random, positive)\n",
      "/Users/massimiliano/opt/anaconda3/envs/intro-ml/lib/python3.7/site-packages/sklearn/linear_model/_coordinate_descent.py:528: ConvergenceWarning: Objective did not converge. You might want to increase the number of iterations. Duality gap: 742.7662235103488, tolerance: 1.9237159321690136\n",
      "  tol, rng, random, positive)\n",
      "/Users/massimiliano/opt/anaconda3/envs/intro-ml/lib/python3.7/site-packages/sklearn/linear_model/_coordinate_descent.py:528: ConvergenceWarning: Objective did not converge. You might want to increase the number of iterations. Duality gap: 680.8679753702489, tolerance: 1.979734309966879\n",
      "  tol, rng, random, positive)\n",
      "/Users/massimiliano/opt/anaconda3/envs/intro-ml/lib/python3.7/site-packages/sklearn/linear_model/_coordinate_descent.py:528: ConvergenceWarning: Objective did not converge. You might want to increase the number of iterations. Duality gap: 717.4078839742439, tolerance: 1.967404530611048\n",
      "  tol, rng, random, positive)\n"
     ]
    }
   ],
   "source": [
    "model.fit(X_train, y_train);"
   ]
  },
  {
   "cell_type": "code",
   "execution_count": 5,
   "metadata": {},
   "outputs": [],
   "source": [
    "y_pred = model.predict(X_test)"
   ]
  },
  {
   "cell_type": "code",
   "execution_count": 6,
   "metadata": {},
   "outputs": [
    {
     "name": "stdout",
     "output_type": "stream",
     "text": [
      "MSE: 1.8691053777713307\n"
     ]
    }
   ],
   "source": [
    "print(\"MSE:\", mean_squared_error(y_test, y_pred)**0.5)"
   ]
  },
  {
   "cell_type": "code",
   "execution_count": 7,
   "metadata": {},
   "outputs": [],
   "source": [
    "# dump values to csv\n",
    "with open(\"task1b_masgalli.csv\", \"w\") as f:\n",
    "    writer = csv.writer(f)\n",
    "    for rms in model.coef_:\n",
    "        writer.writerow([rms])"
   ]
  },
  {
   "cell_type": "code",
   "execution_count": null,
   "metadata": {},
   "outputs": [],
   "source": []
  }
 ],
 "metadata": {
  "language_info": {
   "name": "python"
  },
  "orig_nbformat": 4
 },
 "nbformat": 4,
 "nbformat_minor": 2
}
