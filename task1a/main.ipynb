{
 "cells": [
  {
   "cell_type": "code",
   "execution_count": 1,
   "metadata": {},
   "outputs": [],
   "source": [
    "import pandas as pd\n",
    "import numpy as np\n",
    "from sklearn.model_selection import KFold\n",
    "from sklearn.linear_model import Ridge\n",
    "from sklearn.metrics import mean_squared_error"
   ]
  },
  {
   "cell_type": "code",
   "execution_count": 2,
   "metadata": {},
   "outputs": [],
   "source": [
    "lambdas = [0.1, 1, 10, 100, 200]\n",
    "train_df = pd.read_csv(\"handout/train.csv\", delimiter=\",\")\n",
    "\n",
    "X = train_df.drop([\"y\"], axis=1)\n",
    "y = train_df.y"
   ]
  },
  {
   "cell_type": "code",
   "execution_count": 3,
   "metadata": {},
   "outputs": [],
   "source": [
    "kf = KFold(n_splits=10, shuffle=True)"
   ]
  },
  {
   "cell_type": "code",
   "execution_count": 4,
   "metadata": {},
   "outputs": [],
   "source": [
    "rmses_averaged = {} # dictionary with form {lambda: rmse_averaged}\n",
    "for l in lambdas:\n",
    "    rmses = []\n",
    "    for train_index, validation_index in kf.split(X):\n",
    "        clf = Ridge(alpha=l)\n",
    "        X_train, X_validation = X.iloc[train_index], X.iloc[validation_index]\n",
    "        y_train, y_validation = y.iloc[train_index], y.iloc[validation_index]\n",
    "        clf.fit(X_train, y_train)\n",
    "        y_pred = clf.predict(X_validation)\n",
    "        rmse = mean_squared_error(y_validation, y_pred) ** 0.5\n",
    "        rmses.append(rmse)\n",
    "    rmses_averaged[l] = np.mean(rmses)"
   ]
  },
  {
   "cell_type": "code",
   "execution_count": 5,
   "metadata": {},
   "outputs": [],
   "source": [
    "# dump values to csv\n",
    "import csv\n",
    "with open(\"task1a_masgalli.csv\", \"w\") as f:\n",
    "    writer = csv.writer(f)\n",
    "    for rms in rmses_averaged.values():\n",
    "        writer.writerow([rms])"
   ]
  },
  {
   "cell_type": "code",
   "execution_count": null,
   "metadata": {},
   "outputs": [],
   "source": []
  }
 ],
 "metadata": {
  "interpreter": {
   "hash": "ed2e7aed9813acd8de509c8c2438bc56aefda22674c3c554e0205f5dbd1f21e1"
  },
  "kernelspec": {
   "display_name": "Python 3.7.11 ('intro-ml')",
   "language": "python",
   "name": "python3"
  },
  "language_info": {
   "codemirror_mode": {
    "name": "ipython",
    "version": 3
   },
   "file_extension": ".py",
   "mimetype": "text/x-python",
   "name": "python",
   "nbconvert_exporter": "python",
   "pygments_lexer": "ipython3",
   "version": "3.7.11"
  },
  "orig_nbformat": 4
 },
 "nbformat": 4,
 "nbformat_minor": 2
}
