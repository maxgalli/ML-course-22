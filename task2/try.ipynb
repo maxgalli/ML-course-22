{
 "cells": [
  {
   "cell_type": "code",
   "execution_count": 1,
   "metadata": {},
   "outputs": [],
   "source": [
    "import pandas as pd\n",
    "import numpy as np\n",
    "from sklearn.model_selection import train_test_split\n",
    "from sklearn import svm, metrics\n",
    "import matplotlib.pyplot as plt\n",
    "from itertools import combinations\n",
    "from sklearn.metrics import plot_confusion_matrix, plot_roc_curve, roc_auc_score\n",
    "from sklearn.utils import shuffle\n",
    "from sklearn.impute import SimpleImputer"
   ]
  },
  {
   "cell_type": "code",
   "execution_count": 2,
   "metadata": {},
   "outputs": [],
   "source": [
    "train_data = pd.read_csv(\"handout/train_features.csv\", delimiter=\",\")\n",
    "train_labels = pd.read_csv(\"handout/train_labels.csv\", delimiter=\",\")\n",
    "test_data = pd.read_csv(\"handout/test_features.csv\", delimiter=\",\")\n",
    "\n",
    "train_data = train_data.sort_values(['pid','Time'])\n",
    "train_labels = train_labels.sort_values(['pid'])\n",
    "test_data = test_data.sort_values(['pid','Time'])"
   ]
  },
  {
   "cell_type": "code",
   "execution_count": 3,
   "metadata": {},
   "outputs": [],
   "source": [
    "# new feature that keeps track of wheter or not a certain feature was present\n",
    "for col in train_data.columns[3:]:\n",
    "    train_data[f\"{col}_notna\"] = train_data[col].notna().astype(int)\n",
    "\n",
    "for col in test_data.columns[3:]:\n",
    "    test_data[f\"{col}_notna\"] = test_data[col].notna().astype(int)"
   ]
  },
  {
   "cell_type": "code",
   "execution_count": 4,
   "metadata": {},
   "outputs": [],
   "source": [
    "# substitute missing values with the mean of the column\n",
    "imputer = SimpleImputer(strategy='mean')\n",
    "imputer.fit(train_data)\n",
    "train_data_implaced = imputer.transform(train_data)\n",
    "train_data_implaced = pd.DataFrame(train_data_implaced, columns=train_data.columns)\n",
    "\n",
    "imputer = SimpleImputer(strategy='mean')\n",
    "imputer.fit(test_data)\n",
    "test_data_implaced = imputer.transform(test_data)\n",
    "test_data_implaced = pd.DataFrame(test_data_implaced, columns=test_data.columns)"
   ]
  },
  {
   "cell_type": "code",
   "execution_count": 5,
   "metadata": {},
   "outputs": [],
   "source": [
    "# normalize\n",
    "for col in train_data_implaced.columns[2:]:\n",
    "    train_data_implaced[col] = (train_data_implaced[col] - train_data_implaced[col].min()) / (train_data_implaced[col].max() - train_data_implaced[col].min())\n",
    "\n",
    "for col in test_data_implaced.columns[2:]:\n",
    "    test_data_implaced[col] = (test_data_implaced[col] - test_data_implaced[col].min()) / (test_data_implaced[col].max() - test_data_implaced[col].min())"
   ]
  },
  {
   "cell_type": "code",
   "execution_count": 6,
   "metadata": {},
   "outputs": [],
   "source": [
    "# same values for time\n",
    "train_data_implaced[\"Time\"] = list(range(1, 13)) * len(list(set(train_data_implaced[\"pid\"])))\n",
    "test_data_implaced[\"Time\"] = list(range(1, 13)) * len(list(set(test_data_implaced[\"pid\"])))"
   ]
  },
  {
   "cell_type": "code",
   "execution_count": 7,
   "metadata": {},
   "outputs": [],
   "source": [
    "# pivot\n",
    "train_data_pivoted = train_data_implaced.pivot(index=\"pid\", columns=\"Time\", values=train_data_implaced.columns[2:])\n",
    "test_data_pivoted = test_data_implaced.pivot(index=\"pid\", columns=\"Time\", values=test_data_implaced.columns[2:])"
   ]
  },
  {
   "cell_type": "code",
   "execution_count": 8,
   "metadata": {},
   "outputs": [],
   "source": [
    "train_labels = train_labels.set_index(\"pid\")\n",
    "train_labels = train_labels.sort_index()"
   ]
  },
  {
   "cell_type": "code",
   "execution_count": 9,
   "metadata": {},
   "outputs": [],
   "source": [
    "#labels = ['BaseExcess', 'Fibrinogen', 'AST', 'Alkalinephos', 'Bilirubin_total', 'Lactate', 'TroponinI', 'SaO2', 'Bilirubin_direct', 'EtCO2']\n",
    "# only to test\n",
    "labels = [\"BaseExcess\"]\n",
    "labels = [f\"LABEL_{label}\" for label in labels]"
   ]
  },
  {
   "cell_type": "code",
   "execution_count": 10,
   "metadata": {},
   "outputs": [],
   "source": [
    "def balance_dataset(train_data, train_labels, label):\n",
    "    train_data_0 = train_data[train_labels[label] == 0]\n",
    "    train_data_1 = train_data[train_labels[label] == 1]\n",
    "\n",
    "    n = min(train_data_0.shape[0], train_data_1.shape[0])\n",
    "    train_data_ok = pd.concat([train_data_0.sample(n), train_data_1.sample(n)])\n",
    "    train_data_ok = shuffle(train_data_ok)\n",
    "    \n",
    "    train_labels_ok = train_labels.loc[train_data_ok.index, label]\n",
    "\n",
    "    return train_data_ok, train_labels_ok"
   ]
  },
  {
   "cell_type": "code",
   "execution_count": 12,
   "metadata": {},
   "outputs": [
    {
     "name": "stdout",
     "output_type": "stream",
     "text": [
      "LABEL_BaseExcess\n",
      "ROC AUC: 0.9149049460410873\n"
     ]
    },
    {
     "data": {
      "image/png": "[encoded data removed]",
      "text/plain": [
       "<Figure size 432x288 with 1 Axes>"
      ]
     },
     "metadata": {
      "needs_background": "light"
     },
     "output_type": "display_data"
    },
    {
     "data": {
      "image/png": "[encoded data removed]",
      "text/plain": [
       "<Figure size 432x288 with 2 Axes>"
      ]
     },
     "metadata": {
      "needs_background": "light"
     },
     "output_type": "display_data"
    }
   ],
   "source": [
    "for label in labels:\n",
    "    train_data_balanced, train_labels_balanced = balance_dataset(train_data_pivoted, train_labels, label)\n",
    "    X_train, X_test, y_train, y_test = train_test_split(train_data_balanced, train_labels_balanced, test_size=0.2, random_state=42)\n",
    "    \n",
    "    #weights = X_train[\"svc_weights\"]\n",
    "    #X_train = X_train.drop(columns=[\"svc_weights\"])\n",
    "    #X_test = X_test.drop(columns=[\"svc_weights\"])\n",
    "\n",
    "    clf = svm.SVC(probability=True)\n",
    "    #clf.fit(X_train, y_train, sample_weight=weights)\n",
    "    clf.fit(X_train, y_train)\n",
    "\n",
    "    y_pred = clf.predict(X_test)\n",
    "    y_pred_proba = clf.predict_proba(X_test)[:, 1]\n",
    "\n",
    "    # Evaluation\n",
    "    print(label)\n",
    "    print(f\"ROC AUC: {roc_auc_score(y_test, y_pred_proba)}\")\n",
    "    plot_roc_curve(clf, X_test, y_test, label=label)\n",
    "    plot_confusion_matrix(clf, X_test, y_test)"
   ]
  }
 ],
 "metadata": {
  "interpreter": {
   "hash": "ed2e7aed9813acd8de509c8c2438bc56aefda22674c3c554e0205f5dbd1f21e1"
  },
  "kernelspec": {
   "display_name": "Python 3.7.11 ('intro-ml')",
   "language": "python",
   "name": "python3"
  },
  "language_info": {
   "codemirror_mode": {
    "name": "ipython",
    "version": 3
   },
   "file_extension": ".py",
   "mimetype": "text/x-python",
   "name": "python",
   "nbconvert_exporter": "python",
   "pygments_lexer": "ipython3",
   "version": "3.7.11"
  },
  "orig_nbformat": 4
 },
 "nbformat": 4,
 "nbformat_minor": 2
}
